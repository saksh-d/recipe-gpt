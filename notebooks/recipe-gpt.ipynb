{
 "cells": [
  {
   "cell_type": "markdown",
   "id": "47b9c1c0",
   "metadata": {},
   "source": [
    "# Recipe-GPT\n",
    "This notebook implements a project called Recipe-GPT transformer. The dataset used in this project is: https://huggingface.co/datasets/tengomucho/all-recipes-split"
   ]
  },
  {
   "cell_type": "code",
   "execution_count": null,
   "id": "9378caa4",
   "metadata": {},
   "outputs": [],
   "source": [
    "#Imports\n",
    "\n",
    "import torch\n",
    "import torch.nn as nn\n",
    "\n",
    "import math\n",
    "import os\n",
    "import random\n",
    "from pathlib import Path\n",
    "\n",
    "# HuggingFace imports\n",
    "from datasets import load_dataset, Dataset\n",
    "from transformers import GPT2TokenizerFast, AutoModelForCausalLM, DataCollatorForLanguageModeling, TrainingArguments, Trainer\n"
   ]
  },
  {
   "cell_type": "code",
   "execution_count": 2,
   "id": "5b7304c4",
   "metadata": {},
   "outputs": [
    {
     "name": "stdout",
     "output_type": "stream",
     "text": [
      "Using device: cuda\n"
     ]
    }
   ],
   "source": [
    "# Hyperparameters\n",
    "dataset = 'tengomucho/all-recipes-split'\n",
    "dataset_split = 'train'\n",
    "\n",
    "# Set up device agnostic code\n",
    "if torch.cuda.is_available():\n",
    "    device = 'cuda'\n",
    "elif torch.mps.is_available():\n",
    "    device = 'mps'\n",
    "else:\n",
    "    device = 'cpu'\n",
    "print(\"Using device:\", device)"
   ]
  },
  {
   "cell_type": "markdown",
   "id": "ad25e4ec",
   "metadata": {},
   "source": [
    "### Download and preview dataset"
   ]
  },
  {
   "cell_type": "code",
   "execution_count": null,
   "id": "fc47b13f",
   "metadata": {},
   "outputs": [],
   "source": [
    "def get_dataset(dataset, dataset_split):\n",
    "    \"\"\"\n",
    "    Function to grab dataset based on `dataset` and `dataset_split`.\n",
    "    \"\"\"\n",
    "    data = load_dataset(dataset, split=dataset_split)\n",
    "    \n",
    "    return data\n",
    "\n",
    "data = get_dataset(dataset, dataset_split)\n"
   ]
  },
  {
   "cell_type": "code",
   "execution_count": 10,
   "id": "98119882",
   "metadata": {},
   "outputs": [
    {
     "name": "stdout",
     "output_type": "stream",
     "text": [
      "2147248\n",
      "\n",
      "Example 1\n",
      "Title No-Bake Nut Cookies\n",
      "Ingredients - 1 c. firmly packed brown sugar\n",
      "- 1/2 c. evaporated milk\n",
      "- 1/2 tsp. vanilla\n",
      "- 1/2 c. broken nuts (pecans)\n",
      "- 2 Tbsp. butter or margarine\n",
      "- 3 1/2 c. bite size shredded rice biscuits\n",
      "Directions - In a heavy 2-quart saucepan, mix brown sugar, nuts, evaporated milk and butter or margarine.\n",
      "- Stir over medium heat until mixture bubbles all over top.\n",
      "- Boil and stir 5 minutes more. Take off heat.\n",
      "- Stir in vanilla and cereal; mix well.\n",
      "- Using 2 teaspoons, drop and shape into 30 clusters on wax paper.\n",
      "- Let stand until firm, about 30 minutes.\n",
      "\n",
      "Example 2\n",
      "Title Jewell Ball'S Chicken\n",
      "Ingredients - 1 small jar chipped beef, cut up\n",
      "- 4 boned chicken breasts\n",
      "- 1 can cream of mushroom soup\n",
      "- 1 carton sour cream\n",
      "Directions - Place chipped beef on bottom of baking dish.\n",
      "- Place chicken on top of beef.\n",
      "- Mix soup and cream together; pour over chicken. Bake, uncovered, at 275° for 3 hours.\n",
      "\n",
      "Example 3\n",
      "Title Creamy Corn\n",
      "Ingredients - 2 (16 oz.) pkg. frozen corn\n",
      "- 1 (8 oz.) pkg. cream cheese, cubed\n",
      "- 1/3 c. butter, cubed\n",
      "- 1/2 tsp. garlic powder\n",
      "- 1/2 tsp. salt\n",
      "- 1/4 tsp. pepper\n",
      "Directions - In a slow cooker, combine all ingredients. Cover and cook on low for 4 hours or until heated through and cheese is melted. Stir well before serving. Yields 6 servings.\n"
     ]
    }
   ],
   "source": [
    "#Printing few sample data points\n",
    "for i in range(3):\n",
    "    print(f\"\\nExample {i+1}\")\n",
    "    print(\"Title\", data[i][\"title\"])\n",
    "    print(\"Ingredients\", data[i][\"ingredients\"])\n",
    "    print(\"Directions\", data[i][\"directions\"])\n",
    "\n"
   ]
  },
  {
   "cell_type": "code",
   "execution_count": null,
   "id": "95ceb40b",
   "metadata": {},
   "outputs": [
    {
     "name": "stdout",
     "output_type": "stream",
     "text": [
      "Directory exists, skipping...\n",
      "File saved.\n"
     ]
    }
   ],
   "source": [
    "def save_data(dataset, dataset_split):\n",
    "    \"\"\"\n",
    "    Function to save data locally as a text file.\n",
    "    \"\"\"\n",
    "    data = get_dataset(dataset, dataset_split)\n",
    "    data_path = Path('../data/')\n",
    "\n",
    "    if data_path.is_dir():\n",
    "        print(f\"Directory exists, skipping...\")\n",
    "    else:\n",
    "        print(\"Creating diretory...\")\n",
    "        data_path.mkdir(parents=True, exist_ok=True)\n",
    "\n",
    "    with open(data_path / \"recipes.txt\", \"w\", encoding=\"utf-8\") as f:\n",
    "        for i in range(len(data)):\n",
    "            title = data[i].get(\"title\", \"\").strip()\n",
    "            ingredients = data[i].get(\"ingredients\", \"\").strip()\n",
    "            directions = data[i].get(\"directions\", \"\").strip()\n",
    "\n",
    "            recipe_block = f\"<start>\\n\"  # Add special token to the beginning of each recipe\n",
    "            if title:\n",
    "                recipe_block += f\"Title: {title}\\n\"\n",
    "            recipe_block += f\"Ingredients:\\n{ingredients}\\n\"\n",
    "            recipe_block += f\"Directions:\\n{directions}\\n\"\n",
    "            recipe_block += f\"<end>\\n\\n\"  # Add a special token to the end of each recipe\n",
    "\n",
    "            f.write(recipe_block) \n",
    "\n",
    "    print(\"File saved.\")\n",
    "\n",
    "save_data(dataset, dataset_split)\n"
   ]
  },
  {
   "cell_type": "code",
   "execution_count": 2,
   "id": "0317bbe0",
   "metadata": {},
   "outputs": [
    {
     "name": "stdout",
     "output_type": "stream",
     "text": [
      "1604728762\n",
      "<start>\n",
      "Title: No-Bake Nut Cookies\n",
      "Ingredients:\n",
      "- 1 c. firmly packed brown sugar\n",
      "- 1/2 c. evaporated milk\n",
      "- 1/2 tsp. vanilla\n",
      "- 1/2 c. broken nuts (pecans)\n",
      "- 2 Tbsp. butter or margarine\n",
      "- 3 1/2 c. bite size shredded rice biscuits\n",
      "Directions:\n",
      "- In a heavy 2-quart saucepan, mix brown sugar, nuts, evaporated milk and butter or margarine.\n",
      "- Stir over medium heat until mixture bubbles all over top.\n",
      "- Boil and stir 5 minutes more. Take off heat.\n",
      "- Stir in vanilla and cereal; mix well.\n",
      "- Using 2 teaspoons, drop and shape into 30 clusters on wax paper.\n",
      "- Let stand until firm, about 30 minutes.\n",
      "<end>\n",
      "\n",
      "<start>\n",
      "Title: Jewell Ball'S Chicken\n",
      "Ingredients:\n",
      "- 1 small jar chipped beef, cut up\n",
      "- 4 boned chicken breasts\n",
      "- 1 can cream of mushroom soup\n",
      "- 1 carton sour cream\n",
      "Directions:\n",
      "- Place chipped beef on bottom of baking dish.\n",
      "- Place chicken on top of beef.\n",
      "- Mix soup and cream together; pour over chicken. Bake, uncovered, at 275° for 3 hours.\n",
      "<end>\n",
      "\n",
      "<start>\n",
      "Title: Creamy Corn\n",
      "Ingredients:\n",
      "- 2 (16 oz.\n"
     ]
    }
   ],
   "source": [
    "#loading a few examples from recipes.txt\n",
    "with open(\"../data/recipes.txt\", \"r\", encoding=\"utf-8\") as f:\n",
    "     recipes = f.read()\n",
    "\n",
    "print(len(recipes))\n",
    "print(recipes[:1000])"
   ]
  },
  {
   "cell_type": "markdown",
   "id": "9c6c817f",
   "metadata": {},
   "source": [
    "### Build Tokenizer\n",
    "Using GPT2TokenizerFast from HuggingFace, based on byte-level Byte-Pair-Encoding.\n",
    "\n",
    "(https://huggingface.co/docs/transformers/model_doc/gpt2#transformers.GPT2TokenizerFast)"
   ]
  },
  {
   "cell_type": "code",
   "execution_count": 3,
   "id": "02c9bacd",
   "metadata": {},
   "outputs": [
    {
     "name": "stdout",
     "output_type": "stream",
     "text": [
      "{'bos_token': '<start>', 'eos_token': '<end>', 'unk_token': '<|endoftext|>', 'pad_token': '<end>'}\n",
      "50257\n",
      "50257\n"
     ]
    }
   ],
   "source": [
    "tokenizer = GPT2TokenizerFast.from_pretrained(\"openai-community/gpt2\")\n",
    "\n",
    "special_tokens = {\n",
    "    \"bos_token\" : \"<start>\",\n",
    "    \"eos_token\" : \"<end>\",\n",
    "    \"additional_special_tokens\": []\n",
    "}\n",
    "\n",
    "tokenizer.add_special_tokens(special_tokens)\n",
    "tokenizer.pad_token = tokenizer.eos_token\n",
    "\n",
    "print(tokenizer.special_tokens_map)\n",
    "print(tokenizer.convert_tokens_to_ids(\"<start>\"))\n",
    "print(tokenizer.vocab_size)\n"
   ]
  },
  {
   "cell_type": "markdown",
   "id": "41e1a5bd",
   "metadata": {},
   "source": [
    "### Tokenizing the Corpus\n",
    "We now have a tokenizer setup with custom tokens, so the next goal is to save this to a Dataset class."
   ]
  },
  {
   "cell_type": "code",
   "execution_count": 4,
   "id": "6c7f1e26",
   "metadata": {},
   "outputs": [
    {
     "name": "stdout",
     "output_type": "stream",
     "text": [
      "Number of recipe blocks processed: 50000\n",
      "Max length: 512 | Mean: 148\n"
     ]
    }
   ],
   "source": [
    "# Split recipes.txt by <start>\n",
    "\n",
    "def process_recipes(recipes, tokenizer):\n",
    "    \"\"\"\n",
    "    Splits recipes by \"<start>\", prepends \"<start>\" back to each block,\n",
    "    and tokenizes each block.\n",
    "    \n",
    "    Args:\n",
    "        recipes (str): Raw recipe text containing multiple recipes separated by \"<start>\"\n",
    "        tokenizer (callable): Tokenizer function to apply to each recipe block\n",
    "    \n",
    "    Returns:\n",
    "        list: List of tokenized recipe blocks\n",
    "    \"\"\"\n",
    "    \n",
    "    # Split by \"<start>\" and remove empty strings\n",
    "    recipe_blocks = [block.strip() for block in recipes.split(\"<start>\") if block.strip()]\n",
    "\n",
    "    # Prepend <start> back to each block and tokenize\n",
    "\n",
    "    tokenized_recipes = []\n",
    "    for i, block in enumerate(recipe_blocks):\n",
    "        if i == 50000:  # Processing first 200,000 recipe blocks due to memory constraints\n",
    "            break\n",
    "        full_block = \"<start>\\n\" + block\n",
    "        tokenized_block = tokenizer(full_block, truncation=True, max_length=512, padding=False)\n",
    "        tokenized_recipes.append(tokenized_block)\n",
    "    \n",
    "    return tokenized_recipes\n",
    "\n",
    "processed_recipes = process_recipes(recipes, tokenizer)\n",
    "print(f\"Number of recipe blocks processed: {len(processed_recipes)}\")\n",
    "lengths = [len(r[\"input_ids\"]) for r in processed_recipes]\n",
    "print(f\"Max length: {max(lengths)} | Mean: {sum(lengths) // len(lengths)}\")  # Comparing mean length of block with max_length of tokenized block\n",
    "\n"
   ]
  },
  {
   "cell_type": "markdown",
   "id": "0fe772c4",
   "metadata": {},
   "source": [
    "### Wrapping in datasets.Dataset Object\n",
    "\n",
    "This is required to train with HuggingFace's Trainer, enables batching, shuffling and streaming and preparing clearn train and val splits"
   ]
  },
  {
   "cell_type": "code",
   "execution_count": 5,
   "id": "67b653e3",
   "metadata": {},
   "outputs": [
    {
     "name": "stdout",
     "output_type": "stream",
     "text": [
      "Dataset({\n",
      "    features: ['input_ids', 'attention_mask'],\n",
      "    num_rows: 50000\n",
      "})\n",
      "{'input_ids': [50257, 198, 19160, 25, 27601, 6932, 198, 41222, 25, 198, 12, 362, 357, 23, 15649, 2014, 279, 10025, 13, 8566, 9891, 198, 12, 352, 1588, 279, 10025, 13, 8891, 11, 20720, 198, 12, 604, 4077, 24681, 11, 20720, 198, 12, 362, 309, 24145, 13, 6366, 298, 357, 6230, 278, 8, 198, 12, 362, 23053, 13, 16597, 728, 1010, 10695, 10746, 198, 13470, 507, 25, 198, 12, 15561, 477, 9391, 290, 15936, 656, 257, 2613, 26, 1309, 900, 13417, 13, 1680, 4836, 287, 20720, 613, 66, 504, 13, 198, 50258], 'attention_mask': [1, 1, 1, 1, 1, 1, 1, 1, 1, 1, 1, 1, 1, 1, 1, 1, 1, 1, 1, 1, 1, 1, 1, 1, 1, 1, 1, 1, 1, 1, 1, 1, 1, 1, 1, 1, 1, 1, 1, 1, 1, 1, 1, 1, 1, 1, 1, 1, 1, 1, 1, 1, 1, 1, 1, 1, 1, 1, 1, 1, 1, 1, 1, 1, 1, 1, 1, 1, 1, 1, 1, 1, 1, 1, 1, 1, 1, 1, 1, 1, 1, 1, 1, 1, 1, 1, 1, 1, 1]}\n"
     ]
    }
   ],
   "source": [
    "def create_dataset(processed_recipes):\n",
    "    \"\"\"\n",
    "    Extract input_ids and attention_mask from processed recipes and create a Dataset.\n",
    "    \n",
    "    Args:\n",
    "        processed_recipes (list): List of tokenized recipe blocks\n",
    "    \n",
    "    Returns:\n",
    "        Dataset: HuggingFace Dataset with input_ids and attention_mask\n",
    "    \"\"\"\n",
    "    input_ids = []\n",
    "    attention_mask = []\n",
    "\n",
    "    for recipe in processed_recipes:\n",
    "        input_ids.append(recipe['input_ids'])\n",
    "        attention_mask.append(recipe['attention_mask'])\n",
    "\n",
    "    dataset = Dataset.from_dict({\n",
    "        \"input_ids\": input_ids,\n",
    "        \"attention_mask\": attention_mask\n",
    "    })\n",
    "\n",
    "    return dataset\n",
    "\n",
    "dataset = create_dataset(processed_recipes)\n",
    "print(dataset)\n",
    "print(dataset[random.randint(0, len(dataset) - 1)]) # Peek at a random sample from tokenized dataset"
   ]
  },
  {
   "cell_type": "markdown",
   "id": "8ad71567",
   "metadata": {},
   "source": [
    "### Train/Validation Split and save tokenized dataset to disk"
   ]
  },
  {
   "cell_type": "code",
   "execution_count": 6,
   "id": "b847bf38",
   "metadata": {},
   "outputs": [],
   "source": [
    "def split_and_save_dataset(dataset, train_split=0.9, save_dir=\"../data/tokenized_recipes\"):\n",
    "    \"\"\"\n",
    "    Split tokenized dataset into train/validation and save both to disk.\n",
    "    \n",
    "    Args:\n",
    "        dataset (Dataset): HuggingFace Dataset to split\n",
    "        train_split (float): Proportion for training set (default 0.9 = 90%)\n",
    "        save_dir (str): Directory to save the datasets\n",
    "    \n",
    "    Returns:\n",
    "        tuple: (train_dataset, val_dataset)\n",
    "    \"\"\"\n",
    "\n",
    "    # Split the dataset\n",
    "    split_dataset = dataset.train_test_split(test_size=1-train_split, seed=42)\n",
    "    train_dataset = split_dataset['train']\n",
    "    val_dataset = split_dataset['test']\n",
    "    \n",
    "    # Create save directory if it doesn't exist\n",
    "    os.makedirs(save_dir, exist_ok=True)\n",
    "    \n",
    "    # Save datasets to disk\n",
    "    train_path = os.path.join(save_dir, \"train\")\n",
    "    val_path = os.path.join(save_dir, \"validation\")\n",
    "    \n",
    "    train_dataset.save_to_disk(train_path)\n",
    "    val_dataset.save_to_disk(val_path)\n",
    "    \n",
    "    print(f\"Datasets saved successfully!\")\n",
    "    print(f\"Train dataset: {train_path} | ({len(train_dataset)} samples)\")\n",
    "    print(f\"Validation dataset: {val_path} | ({len(val_dataset)} samples)\")\n",
    "    \n",
    "    return train_dataset, val_dataset\n",
    "\n",
    "\n",
    "def load_saved_datasets(save_dir=\"../data/tokenized_recipes\"):\n",
    "    \"\"\"\n",
    "    Load previously saved tokenized train/validation datasets from disk.\n",
    "    \n",
    "    Args:\n",
    "        save_dir (str): Directory where datasets were saved\n",
    "    \n",
    "    Returns:\n",
    "        tuple: (train_dataset, val_dataset)\n",
    "    \"\"\"\n",
    "    \n",
    "    train_path = os.path.join(save_dir, \"train\")\n",
    "    val_path = os.path.join(save_dir, \"validation\")\n",
    "    \n",
    "    if not os.path.exists(train_path) or not os.path.exists(val_path):\n",
    "        raise FileNotFoundError(f\"Datasets not found in {save_dir}. Please run processing first.\")\n",
    "    \n",
    "    train_dataset = Dataset.load_from_disk(train_path)\n",
    "    val_dataset = Dataset.load_from_disk(val_path)\n",
    "    \n",
    "    print(f\"Datasets loaded successfully!\")\n",
    "    print(f\"Train dataset: {len(train_dataset)} samples\")\n",
    "    print(f\"Validation dataset: {len(val_dataset)} samples\")\n",
    "    \n",
    "    return train_dataset, val_dataset"
   ]
  },
  {
   "cell_type": "code",
   "execution_count": 7,
   "id": "7bed6b29",
   "metadata": {},
   "outputs": [
    {
     "data": {
      "application/vnd.jupyter.widget-view+json": {
       "model_id": "365c97c1e93c40358d44221b28cf768a",
       "version_major": 2,
       "version_minor": 0
      },
      "text/plain": [
       "Saving the dataset (0/1 shards):   0%|          | 0/45000 [00:00<?, ? examples/s]"
      ]
     },
     "metadata": {},
     "output_type": "display_data"
    },
    {
     "data": {
      "application/vnd.jupyter.widget-view+json": {
       "model_id": "094b2cbb8c454256894dce140de96518",
       "version_major": 2,
       "version_minor": 0
      },
      "text/plain": [
       "Saving the dataset (0/1 shards):   0%|          | 0/5000 [00:00<?, ? examples/s]"
      ]
     },
     "metadata": {},
     "output_type": "display_data"
    },
    {
     "name": "stdout",
     "output_type": "stream",
     "text": [
      "Datasets saved successfully!\n",
      "Train dataset: ../data/tokenized_recipes\\train | (45000 samples)\n",
      "Validation dataset: ../data/tokenized_recipes\\validation | (5000 samples)\n"
     ]
    },
    {
     "data": {
      "text/plain": [
       "(Dataset({\n",
       "     features: ['input_ids', 'attention_mask'],\n",
       "     num_rows: 45000\n",
       " }),\n",
       " Dataset({\n",
       "     features: ['input_ids', 'attention_mask'],\n",
       "     num_rows: 5000\n",
       " }))"
      ]
     },
     "execution_count": 7,
     "metadata": {},
     "output_type": "execute_result"
    }
   ],
   "source": [
    "split_and_save_dataset(dataset)\n"
   ]
  },
  {
   "cell_type": "code",
   "execution_count": 8,
   "id": "6e307981",
   "metadata": {},
   "outputs": [
    {
     "name": "stdout",
     "output_type": "stream",
     "text": [
      "Datasets loaded successfully!\n",
      "Train dataset: 45000 samples\n",
      "Validation dataset: 5000 samples\n",
      "Input IDs (first 50): [50257, 198, 19160, 25, 17973, 39528, 198, 41222, 25, 198, 12, 352, 3091, 1815, 676, 444, 198, 12, 352, 3091, 475, 1010, 25557, 354, 9113, 44670, 198, 12, 14380, 198, 12, 352, 3091, 11311, 9113, 44670, 198, 12, 362, 3661, 273, 18550, 9210, 198, 12, 352, 1588, 9290, 15226, 40930]\n",
      "Attention Mask (first 50): [1, 1, 1, 1, 1, 1, 1, 1, 1, 1, 1, 1, 1, 1, 1, 1, 1, 1, 1, 1, 1, 1, 1, 1, 1, 1, 1, 1, 1, 1, 1, 1, 1, 1, 1, 1, 1, 1, 1, 1, 1, 1, 1, 1, 1, 1, 1, 1, 1, 1]\n",
      "\n",
      "Decoded Text:\n",
      " <start>\n",
      "Title: Simply Delicious\n",
      "Ingredients:\n",
      "- 1 box Twinkies\n",
      "- 1 box butterscotch instant pudding\n",
      "- nuts\n",
      "- 1 box chocolate instant pudding\n",
      "- 2 Skor candy bars\n",
      "- 1 large container Cool Whip\n",
      "Directions:\n",
      "- Unwrap Twinkies and lay at the bottom of a baking dish.\n",
      "- Mix both puddings in separate bowls.\n",
      "- Pour one over the top of the Twinkies, then the other.\n",
      "- Chop Skor candy bars in small pieces. Sprinkle over top of pudding.\n",
      "- Spread Cool Whip on top.\n",
      "- Sprinkle with chopped nuts.\n",
      "<end>\n"
     ]
    }
   ],
   "source": [
    "train_dataset, val_dataset = load_saved_datasets()\n",
    "\n",
    "sample = train_dataset[0]\n",
    "\n",
    "print(\"Input IDs (first 50):\", sample[\"input_ids\"][:50])\n",
    "print(\"Attention Mask (first 50):\", sample[\"attention_mask\"][:50])\n",
    "print(\"\\nDecoded Text:\\n\", tokenizer.decode(sample[\"input_ids\"]))"
   ]
  },
  {
   "cell_type": "markdown",
   "id": "1d7f2b2f",
   "metadata": {},
   "source": [
    "## Fine Tune GPT-2 Model\n",
    "\n",
    "- Load the base GPT-2 model: `AutoModelForCausalLM`\n",
    "- Resize embedding layer to accomodate `<start>` and `<end>`\n",
    "- Define training configs\n",
    "- Use Hugging Face's `Trainer` to train"
   ]
  },
  {
   "cell_type": "code",
   "execution_count": 9,
   "id": "b045d906",
   "metadata": {},
   "outputs": [
    {
     "name": "stderr",
     "output_type": "stream",
     "text": [
      "The new embeddings will be initialized from a multivariate normal distribution that has old embeddings' mean and covariance. As described in this article: https://nlp.stanford.edu/~johnhew/vocab-expansion.html. To disable this, use `mean_resizing=False`\n"
     ]
    },
    {
     "name": "stdout",
     "output_type": "stream",
     "text": [
      "50259\n",
      "torch.Size([50259, 768])\n"
     ]
    }
   ],
   "source": [
    "model = AutoModelForCausalLM.from_pretrained(\"openai-community/gpt2\")\n",
    "\n",
    "# Resize token embeddings so that model learns new tokens\n",
    "model.resize_token_embeddings(len(tokenizer))\n",
    "\n",
    "print(model.config.vocab_size)  #Expected 50259\n",
    "print(model.transformer.wte.weight.shape)"
   ]
  },
  {
   "cell_type": "code",
   "execution_count": 11,
   "id": "006b7de9",
   "metadata": {},
   "outputs": [
    {
     "name": "stderr",
     "output_type": "stream",
     "text": [
      "C:\\Users\\saksh\\AppData\\Local\\Temp\\ipykernel_14720\\1871887489.py:25: FutureWarning: `tokenizer` is deprecated and will be removed in version 5.0.0 for `Trainer.__init__`. Use `processing_class` instead.\n",
      "  trainer = Trainer(\n"
     ]
    }
   ],
   "source": [
    "data_collator = DataCollatorForLanguageModeling(\n",
    "    tokenizer = tokenizer,\n",
    "    mlm = False #Causal LM, not BERT\n",
    ")\n",
    "\n",
    "# Set up training arguments\n",
    "training_args = TrainingArguments(\n",
    "    output_dir=\"../models/recipe-gpt\",\n",
    "    overwrite_output_dir=True,\n",
    "    eval_strategy=\"epoch\",\n",
    "    save_strategy=\"epoch\",\n",
    "    logging_strategy=\"steps\",\n",
    "    logging_steps=50,\n",
    "    save_total_limit=2,\n",
    "    num_train_epochs=5,\n",
    "    per_device_train_batch_size=4,  # adjust based on available memory\n",
    "    per_device_eval_batch_size=4,\n",
    "    warmup_steps=50,\n",
    "    weight_decay=0.01,\n",
    "    fp16=True,  # Set to True if using a GPU with FP16 support, using RTX 3070\n",
    "    report_to=\"none\"\n",
    ")\n",
    "\n",
    "#Set up trainer\n",
    "trainer = Trainer(\n",
    "    model=model,\n",
    "    args=training_args,\n",
    "    train_dataset=train_dataset,\n",
    "    eval_dataset=val_dataset,\n",
    "    tokenizer=tokenizer,\n",
    "    data_collator=data_collator\n",
    ")\n",
    "\n"
   ]
  },
  {
   "cell_type": "code",
   "execution_count": 12,
   "id": "1485723c",
   "metadata": {},
   "outputs": [
    {
     "name": "stderr",
     "output_type": "stream",
     "text": [
      "`loss_type=None` was set in the config but it is unrecognised.Using the default loss: `ForCausalLMLoss`.\n"
     ]
    },
    {
     "data": {
      "text/html": [
       "\n",
       "    <div>\n",
       "      \n",
       "      <progress value='56250' max='56250' style='width:300px; height:20px; vertical-align: middle;'></progress>\n",
       "      [56250/56250 2:19:17, Epoch 5/5]\n",
       "    </div>\n",
       "    <table border=\"1\" class=\"dataframe\">\n",
       "  <thead>\n",
       " <tr style=\"text-align: left;\">\n",
       "      <th>Epoch</th>\n",
       "      <th>Training Loss</th>\n",
       "      <th>Validation Loss</th>\n",
       "    </tr>\n",
       "  </thead>\n",
       "  <tbody>\n",
       "    <tr>\n",
       "      <td>1</td>\n",
       "      <td>1.384300</td>\n",
       "      <td>1.370153</td>\n",
       "    </tr>\n",
       "    <tr>\n",
       "      <td>2</td>\n",
       "      <td>1.304600</td>\n",
       "      <td>1.302903</td>\n",
       "    </tr>\n",
       "    <tr>\n",
       "      <td>3</td>\n",
       "      <td>1.261100</td>\n",
       "      <td>1.272295</td>\n",
       "    </tr>\n",
       "    <tr>\n",
       "      <td>4</td>\n",
       "      <td>1.249300</td>\n",
       "      <td>1.255499</td>\n",
       "    </tr>\n",
       "    <tr>\n",
       "      <td>5</td>\n",
       "      <td>1.149900</td>\n",
       "      <td>1.251273</td>\n",
       "    </tr>\n",
       "  </tbody>\n",
       "</table><p>"
      ],
      "text/plain": [
       "<IPython.core.display.HTML object>"
      ]
     },
     "metadata": {},
     "output_type": "display_data"
    },
    {
     "data": {
      "text/plain": [
       "TrainOutput(global_step=56250, training_loss=1.3055569748263889, metrics={'train_runtime': 8357.7505, 'train_samples_per_second': 26.921, 'train_steps_per_second': 6.73, 'total_flos': 2.3194003654656e+16, 'train_loss': 1.3055569748263889, 'epoch': 5.0})"
      ]
     },
     "execution_count": 12,
     "metadata": {},
     "output_type": "execute_result"
    }
   ],
   "source": [
    "trainer.train()"
   ]
  },
  {
   "cell_type": "code",
   "execution_count": null,
   "id": "409dad94",
   "metadata": {},
   "outputs": [
    {
     "name": "stderr",
     "output_type": "stream",
     "text": [
      "Setting `pad_token_id` to `eos_token_id`:50258 for open-end generation.\n"
     ]
    },
    {
     "name": "stdout",
     "output_type": "stream",
     "text": [
      "Generated Recipe Directions:\n",
      "\n",
      "- Line waffle iron with waffle iron.\n",
      "- Pour chocolate over waffle iron.\n",
      "- Sprinkle milk over chocolate.\n",
      "- Put in oven.\n",
      "- Cook on lowest heat until chocolate is melted.\n",
      "- Serve with whipped cream or ice cream.\n",
      "- Serve warm with chocolate syrup.\n",
      "- Yields 4 servings.\n",
      "- Can be frozen.\n",
      "- You may use one of the other flavors, like orange or strawberry.\n",
      "- You can use any other flavor.\n",
      "- Can be frozen in freezer.\n",
      "- It is better to use a blender or food processor\n"
     ]
    }
   ],
   "source": [
    "from transformers import AutoModelForCausalLM, GPT2TokenizerFast\n",
    "import torch\n",
    "\n",
    "# === 1. Load fine-tuned model and tokenizer ===\n",
    "model_path = \"../models/recipe-gpt/checkpoint-56250\"\n",
    "tokenizer = GPT2TokenizerFast.from_pretrained(model_path)\n",
    "model = AutoModelForCausalLM.from_pretrained(model_path)\n",
    "model.eval()  # set to inference mode\n",
    "\n",
    "# Use GPU if available\n",
    "device = torch.device(\"cuda\" if torch.cuda.is_available() else \"cpu\")\n",
    "model.to(device)\n",
    "\n",
    "# === 2. Define generation function ===\n",
    "def generate_recipe(ingredients, max_length=300, temperature=0.8, top_k=50, top_p=0.95):\n",
    "    prompt = \"<start>\\nIngredients:\\n\"\n",
    "    for ingredient in ingredients:\n",
    "        prompt += f\"- {ingredient}\\n\"\n",
    "    prompt += \"Directions:\\nFollow these steps to prepare:\\n\"\n",
    "\n",
    "    inputs = tokenizer(prompt, return_tensors=\"pt\")\n",
    "    input_ids = inputs.input_ids.to(device)\n",
    "    attention_mask = inputs.attention_mask.to(device)\n",
    "\n",
    "    with torch.no_grad():\n",
    "        output_ids = model.generate(\n",
    "            input_ids,\n",
    "            attention_mask=attention_mask,\n",
    "            do_sample=True,\n",
    "            # temperature=temperature,\n",
    "            # top_k=top_k,\n",
    "            # top_p=top_p,\n",
    "            # max_length=max_length,\n",
    "            temperature=0.7,\n",
    "            top_k=40,\n",
    "            top_p=0.9,\n",
    "            max_length=140,\n",
    "            eos_token_id=tokenizer.convert_tokens_to_ids(\"<end>\")\n",
    "        )\n",
    "\n",
    "    generated = tokenizer.decode(output_ids[0], skip_special_tokens=False)\n",
    "\n",
    "    # Extract directions block\n",
    "    if \"Directions:\" in generated:\n",
    "        generated = generated.split(\"Directions:\")[1]\n",
    "    if \"<end>\" in generated:\n",
    "        generated = generated.split(\"<end>\")[0]\n",
    "\n",
    "    return generated.strip()\n",
    "\n",
    "# === 3. Try a generation ===\n",
    "ingredients = [\"waffle\", \"chocolate\", \"milk\"]\n",
    "recipe = generate_recipe(ingredients)\n",
    "print(\"Generated Recipe Directions:\\n\")\n",
    "print(recipe)\n"
   ]
  }
 ],
 "metadata": {
  "kernelspec": {
   "display_name": "pytorch",
   "language": "python",
   "name": "python3"
  },
  "language_info": {
   "codemirror_mode": {
    "name": "ipython",
    "version": 3
   },
   "file_extension": ".py",
   "mimetype": "text/x-python",
   "name": "python",
   "nbconvert_exporter": "python",
   "pygments_lexer": "ipython3",
   "version": "3.12.9"
  }
 },
 "nbformat": 4,
 "nbformat_minor": 5
}
